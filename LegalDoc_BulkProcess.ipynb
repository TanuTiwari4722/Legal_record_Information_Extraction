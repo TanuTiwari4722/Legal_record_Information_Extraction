{
 "cells": [
  {
   "cell_type": "markdown",
   "id": "31ba9e28",
   "metadata": {},
   "source": [
    "## Library Imports"
   ]
  },
  {
   "cell_type": "code",
   "execution_count": 1,
   "id": "a7b7d510",
   "metadata": {},
   "outputs": [],
   "source": [
    "from OCR import OCR_Model\n",
    "from PIL import Image, ImageDraw, ImageFont\n",
    "from pdf2image import convert_from_path\n",
    "from matplotlib import pyplot as plt\n",
    "from dotenv import load_dotenv\n",
    "from PIL import Image\n",
    "from groq import Groq\n",
    "import numpy as np\n",
    "import torch\n",
    "import pickle\n",
    "import json\n",
    "import os\n",
    "\n",
    "load_dotenv()\n",
    "\n",
    "api_key = os.getenv(\"GROQ_API_KEY\")\n",
    "client = Groq(api_key=api_key)"
   ]
  },
  {
   "cell_type": "markdown",
   "id": "523742b8",
   "metadata": {},
   "source": [
    "## LLM Setup to get desired output "
   ]
  },
  {
   "cell_type": "code",
   "execution_count": 36,
   "id": "12ec6f59",
   "metadata": {},
   "outputs": [],
   "source": [
    "def extract_fields_from_ocr(all_text_lines):\n",
    "    joined_text = \"\\n\".join(all_text_lines)\n",
    "\n",
    "    prompt = f\"\"\"\n",
    "        You are a structured data extractor for Marathi/Hindi land record OCR text.\n",
    "\n",
    "        Given the OCR text of a legal land document, extract the following fields **precisely**:\n",
    "\n",
    "        - \"अहवाल दिनांक\" → from a line like \"अहवाल दिनांक : DD/MM/YYYY\"\n",
    "        - \"गाव\" → word after गाव: (may be in brackets or followed by a number)\n",
    "        - \"तालुका\" → word after तालुका :\n",
    "        - \"जिल्हा\" → word after जिल्हा :\n",
    "        - \"ULPIN\" or \"PU-ID\" → numerical code following \"ULPIN\" or \"PU-ID\"\n",
    "        - \"Owner Name\" → all person names in Marathi/Hindi script that are **not** struck-through (i.e., ignore names with `<del>...</del>`), and not phrases like \"हे आर.चौ.मी\"\n",
    "        - \"प्रलंबित फ़ेरफ़ार\" -> नाही.\n",
    "\n",
    "        ### Rules for Owner Names:\n",
    "        - Must be a **human name** (e.g., दिपक वावुलाल गोयकर)\n",
    "        - Ignore any name with `<del>`, or anything that does not resemble a person\n",
    "        - Return multiple names as a **list**\n",
    "\n",
    "        ### Output Format:\n",
    "        Respond with **only** the following JSON object (no extra explanation):\n",
    "\n",
    "        ```json\n",
    "        {{\n",
    "        \"अहवाल दिनांक\": \"DD/MM/YYYY\",\n",
    "        \"गाव\": \"Village Name\",\n",
    "        \"तालुका\": \"Taluka Name\",\n",
    "        \"जिल्हा\": \"District Name\",\n",
    "        \"ULPIN/PU-ID\": \"Number\",\n",
    "        \"Owner Name\": [\"Name 1\", \"Name 2\"],\n",
    "        \"प्रलंबित फ़ेरफ़ार\" : \"नाही\"\n",
    "        }}\n",
    "        ```\n",
    "        Only provide the JSON object without any additional text or explanation.\n",
    "        \\\"\\\"\\\"{joined_text}\\\"\\\"\\\"\n",
    "    \"\"\" \n",
    "\n",
    "    chat_completion = client.chat.completions.create(\n",
    "        model=\"llama3-8b-8192\",  # You can also try \"llama3-8b-8192\" or \"gemma-7b-it\"\n",
    "        messages=[\n",
    "            {\"role\": \"system\", \"content\": \"You extract structured data from OCR of Marathi legal documents.\"},\n",
    "            {\"role\": \"user\", \"content\": prompt}\n",
    "        ],\n",
    "        temperature=0\n",
    "    )\n",
    "\n",
    "    return chat_completion.choices[0].message.content"
   ]
  },
  {
   "cell_type": "markdown",
   "id": "1de5dc33",
   "metadata": {},
   "source": [
    "## Processing in Bulk and storing the results"
   ]
  },
  {
   "cell_type": "code",
   "execution_count": 37,
   "id": "1cc9ef4e",
   "metadata": {},
   "outputs": [
    {
     "name": "stdout",
     "output_type": "stream",
     "text": [
      "Processing 1/36 , 1 39.pdf\n",
      "\tSkipping 1 39.pdf, already processed.\n",
      "Processing 2/36 , 2 30.pdf\n",
      "\tSkipping 2 30.pdf, already processed.\n",
      "Processing 3/36 , 7-12 1.pdf\n",
      "\tSkipping 7-12 1.pdf, already processed.\n",
      "Processing 4/36 , 7-12.pdf\n",
      "\tSkipping 7-12.pdf, already processed.\n",
      "Processing 5/36 , 7_12 7 (1).pdf\n",
      "\tSkipping 7_12 7 (1).pdf, already processed.\n",
      "Processing 6/36 , 7_12_365 2 (1).pdf\n",
      "\tSkipping 7_12_365 2 (1).pdf, already processed.\n",
      "Processing 7/36 , Satbara-60-1.pdf\n",
      "\tSkipping Satbara-60-1.pdf, already processed.\n",
      "Processing 8/36 , Satbara1 4.pdf\n",
      "\tSkipping Satbara1 4.pdf, already processed.\n",
      "Processing 9/36 , Satbara1.pdf\n",
      "\tSkipping Satbara1.pdf, already processed.\n",
      "Processing 10/36 , Satbara2.pdf\n",
      "\tSkipping Satbara2.pdf, already processed.\n",
      "Processing 11/36 , Satbara3.pdf\n",
      "\tSkipping Satbara3.pdf, already processed.\n",
      "Processing 12/36 , Satbara4.pdf\n",
      "\tSkipping Satbara4.pdf, already processed.\n",
      "Processing 13/36 , download 17.pdf\n",
      "\tSkipping download 17.pdf, already processed.\n",
      "Processing 14/36 , download 18.pdf\n",
      "\tSkipping download 18.pdf, already processed.\n",
      "Processing 15/36 , download 19.pdf\n",
      "\tSkipping download 19.pdf, already processed.\n",
      "Processing 16/36 , download 20.pdf\n",
      "\tSkipping download 20.pdf, already processed.\n",
      "Processing 17/36 , download 21.pdf\n",
      "\tSkipping download 21.pdf, already processed.\n",
      "Processing 18/36 , download 22.pdf\n",
      "\tRunning OCR...\n"
     ]
    },
    {
     "name": "stderr",
     "output_type": "stream",
     "text": [
      "Detecting bboxes: 100%|██████████| 1/1 [00:01<00:00,  1.01s/it]\n",
      "Recognizing Text: 100%|██████████| 264/264 [04:29<00:00,  1.02s/it]\n"
     ]
    },
    {
     "name": "stdout",
     "output_type": "stream",
     "text": [
      "Image saved to outputs/images/download 22.pdf.png\n",
      "\tFetching relevant fields from OCR...\n",
      "Processing 19/36 , download 23 (1).pdf\n",
      "\tRunning OCR...\n"
     ]
    },
    {
     "name": "stderr",
     "output_type": "stream",
     "text": [
      "Detecting bboxes: 100%|██████████| 1/1 [00:00<00:00,  1.02it/s]\n",
      "Recognizing Text: 100%|██████████| 170/170 [04:24<00:00,  1.55s/it]\n"
     ]
    },
    {
     "name": "stdout",
     "output_type": "stream",
     "text": [
      "Image saved to outputs/images/download 23 (1).pdf.png\n",
      "\tFetching relevant fields from OCR...\n",
      "Processing 20/36 , download 23.pdf\n",
      "\tRunning OCR...\n"
     ]
    },
    {
     "name": "stderr",
     "output_type": "stream",
     "text": [
      "Detecting bboxes: 100%|██████████| 1/1 [00:00<00:00,  1.01it/s]\n",
      "Recognizing Text: 100%|██████████| 170/170 [04:26<00:00,  1.56s/it]\n"
     ]
    },
    {
     "name": "stdout",
     "output_type": "stream",
     "text": [
      "Image saved to outputs/images/download 23.pdf.png\n",
      "\tFetching relevant fields from OCR...\n",
      "Processing 21/36 , download 24.pdf\n",
      "\tRunning OCR...\n"
     ]
    },
    {
     "name": "stderr",
     "output_type": "stream",
     "text": [
      "Detecting bboxes: 100%|██████████| 1/1 [00:00<00:00,  1.00it/s]\n",
      "Recognizing Text: 100%|██████████| 132/132 [02:51<00:00,  1.30s/it]\n"
     ]
    },
    {
     "name": "stdout",
     "output_type": "stream",
     "text": [
      "Image saved to outputs/images/download 24.pdf.png\n",
      "\tFetching relevant fields from OCR...\n",
      "Processing 22/36 , download 25.pdf\n",
      "\tRunning OCR...\n"
     ]
    },
    {
     "name": "stderr",
     "output_type": "stream",
     "text": [
      "Detecting bboxes: 100%|██████████| 1/1 [00:00<00:00,  1.07it/s]\n",
      "Recognizing Text: 100%|██████████| 102/102 [02:03<00:00,  1.21s/it]\n"
     ]
    },
    {
     "name": "stdout",
     "output_type": "stream",
     "text": [
      "Image saved to outputs/images/download 25.pdf.png\n",
      "\tFetching relevant fields from OCR...\n",
      "Processing 23/36 , download 26.pdf\n",
      "\tRunning OCR...\n"
     ]
    },
    {
     "name": "stderr",
     "output_type": "stream",
     "text": [
      "Detecting bboxes: 100%|██████████| 1/1 [00:00<00:00,  1.00it/s]\n",
      "Recognizing Text: 100%|██████████| 137/137 [02:53<00:00,  1.27s/it]\n"
     ]
    },
    {
     "name": "stdout",
     "output_type": "stream",
     "text": [
      "Image saved to outputs/images/download 26.pdf.png\n",
      "\tFetching relevant fields from OCR...\n",
      "Processing 24/36 , download 27.pdf\n",
      "\tRunning OCR...\n"
     ]
    },
    {
     "name": "stderr",
     "output_type": "stream",
     "text": [
      "Detecting bboxes: 100%|██████████| 1/1 [00:01<00:00,  1.09s/it]\n",
      "Recognizing Text: 100%|██████████| 357/357 [06:35<00:00,  1.11s/it]\n"
     ]
    },
    {
     "name": "stdout",
     "output_type": "stream",
     "text": [
      "Image saved to outputs/images/download 27.pdf.png\n",
      "\tFetching relevant fields from OCR...\n",
      "Processing 25/36 , download 28.pdf\n",
      "\tRunning OCR...\n"
     ]
    },
    {
     "name": "stderr",
     "output_type": "stream",
     "text": [
      "Detecting bboxes: 100%|██████████| 1/1 [00:01<00:00,  1.06s/it]\n",
      "Recognizing Text: 100%|██████████| 357/357 [06:35<00:00,  1.11s/it]\n"
     ]
    },
    {
     "name": "stdout",
     "output_type": "stream",
     "text": [
      "Image saved to outputs/images/download 28.pdf.png\n",
      "\tFetching relevant fields from OCR...\n",
      "Processing 26/36 , download 29.pdf\n",
      "\tRunning OCR...\n"
     ]
    },
    {
     "name": "stderr",
     "output_type": "stream",
     "text": [
      "Detecting bboxes: 100%|██████████| 1/1 [00:01<00:00,  1.04s/it]\n",
      "Recognizing Text: 100%|██████████| 232/232 [04:50<00:00,  1.25s/it]\n"
     ]
    },
    {
     "name": "stdout",
     "output_type": "stream",
     "text": [
      "Image saved to outputs/images/download 29.pdf.png\n",
      "\tFetching relevant fields from OCR...\n",
      "Processing 27/36 , satbara-101-1 1.pdf\n",
      "\tRunning OCR...\n"
     ]
    },
    {
     "name": "stderr",
     "output_type": "stream",
     "text": [
      "Detecting bboxes: 100%|██████████| 1/1 [00:00<00:00,  1.00it/s]\n",
      "Recognizing Text: 100%|██████████| 140/140 [03:13<00:00,  1.38s/it]\n"
     ]
    },
    {
     "name": "stdout",
     "output_type": "stream",
     "text": [
      "Image saved to outputs/images/satbara-101-1 1.pdf.png\n",
      "\tFetching relevant fields from OCR...\n",
      "Processing 28/36 , satbara-864-2 1.pdf\n",
      "\tRunning OCR...\n"
     ]
    },
    {
     "name": "stderr",
     "output_type": "stream",
     "text": [
      "Detecting bboxes: 100%|██████████| 1/1 [00:01<00:00,  1.01s/it]\n",
      "Recognizing Text: 100%|██████████| 191/191 [03:19<00:00,  1.04s/it]\n"
     ]
    },
    {
     "name": "stdout",
     "output_type": "stream",
     "text": [
      "Image saved to outputs/images/satbara-864-2 1.pdf.png\n",
      "\tFetching relevant fields from OCR...\n",
      "Processing 29/36 , satbara.pdf\n",
      "\tRunning OCR...\n"
     ]
    },
    {
     "name": "stderr",
     "output_type": "stream",
     "text": [
      "Detecting bboxes: 100%|██████████| 1/1 [00:01<00:00,  1.01s/it]\n",
      "Recognizing Text: 100%|██████████| 130/130 [02:36<00:00,  1.21s/it]\n"
     ]
    },
    {
     "name": "stdout",
     "output_type": "stream",
     "text": [
      "Image saved to outputs/images/satbara.pdf.png\n",
      "\tFetching relevant fields from OCR...\n",
      "Processing 30/36 , satbara10.pdf\n",
      "\tRunning OCR...\n"
     ]
    },
    {
     "name": "stderr",
     "output_type": "stream",
     "text": [
      "Detecting bboxes: 100%|██████████| 1/1 [00:01<00:00,  1.08s/it]\n",
      "Recognizing Text: 100%|██████████| 211/211 [05:05<00:00,  1.45s/it]\n"
     ]
    },
    {
     "name": "stdout",
     "output_type": "stream",
     "text": [
      "Image saved to outputs/images/satbara10.pdf.png\n",
      "\tFetching relevant fields from OCR...\n",
      "Processing 31/36 , satbara11.pdf\n",
      "\tRunning OCR...\n"
     ]
    },
    {
     "name": "stderr",
     "output_type": "stream",
     "text": [
      "Detecting bboxes: 100%|██████████| 1/1 [00:01<00:00,  1.00s/it]\n",
      "Recognizing Text: 100%|██████████| 159/159 [02:59<00:00,  1.13s/it]\n"
     ]
    },
    {
     "name": "stdout",
     "output_type": "stream",
     "text": [
      "Image saved to outputs/images/satbara11.pdf.png\n",
      "\tFetching relevant fields from OCR...\n",
      "Processing 32/36 , satbara12.pdf\n",
      "\tRunning OCR...\n"
     ]
    },
    {
     "name": "stderr",
     "output_type": "stream",
     "text": [
      "Detecting bboxes: 100%|██████████| 1/1 [00:01<00:00,  1.01s/it]\n",
      "Recognizing Text: 100%|██████████| 174/174 [02:59<00:00,  1.03s/it]\n"
     ]
    },
    {
     "name": "stdout",
     "output_type": "stream",
     "text": [
      "Image saved to outputs/images/satbara12.pdf.png\n",
      "\tFetching relevant fields from OCR...\n",
      "Processing 33/36 , satbara13.pdf\n",
      "\tRunning OCR...\n"
     ]
    },
    {
     "name": "stderr",
     "output_type": "stream",
     "text": [
      "Detecting bboxes: 100%|██████████| 1/1 [00:00<00:00,  1.01it/s]\n",
      "Recognizing Text: 100%|██████████| 128/128 [02:12<00:00,  1.03s/it]\n"
     ]
    },
    {
     "name": "stdout",
     "output_type": "stream",
     "text": [
      "Image saved to outputs/images/satbara13.pdf.png\n",
      "\tFetching relevant fields from OCR...\n",
      "Processing 34/36 , satbara5 (1).pdf\n",
      "\tRunning OCR...\n"
     ]
    },
    {
     "name": "stderr",
     "output_type": "stream",
     "text": [
      "Detecting bboxes: 100%|██████████| 1/1 [00:00<00:00,  1.03it/s]\n",
      "Recognizing Text: 100%|██████████| 121/121 [02:27<00:00,  1.22s/it]\n"
     ]
    },
    {
     "name": "stdout",
     "output_type": "stream",
     "text": [
      "Image saved to outputs/images/satbara5 (1).pdf.png\n",
      "\tFetching relevant fields from OCR...\n",
      "Processing 35/36 , satbara5 (2).pdf\n",
      "\tRunning OCR...\n"
     ]
    },
    {
     "name": "stderr",
     "output_type": "stream",
     "text": [
      "Detecting bboxes: 100%|██████████| 1/1 [00:00<00:00,  1.02it/s]\n",
      "Recognizing Text: 100%|██████████| 119/119 [02:10<00:00,  1.10s/it]\n"
     ]
    },
    {
     "name": "stdout",
     "output_type": "stream",
     "text": [
      "Image saved to outputs/images/satbara5 (2).pdf.png\n",
      "\tFetching relevant fields from OCR...\n",
      "Processing 36/36 , satbara5 (3).pdf\n",
      "\tRunning OCR...\n"
     ]
    },
    {
     "name": "stderr",
     "output_type": "stream",
     "text": [
      "Detecting bboxes: 100%|██████████| 1/1 [00:01<00:00,  1.00s/it]\n",
      "Recognizing Text: 100%|██████████| 110/110 [02:38<00:00,  1.44s/it]\n"
     ]
    },
    {
     "name": "stdout",
     "output_type": "stream",
     "text": [
      "Image saved to outputs/images/satbara5 (3).pdf.png\n",
      "\tFetching relevant fields from OCR...\n"
     ]
    }
   ],
   "source": [
    "doc_dir =\"MH_LandRecords_PDFs\"\n",
    "save_dir = \"outputs\"\n",
    "\n",
    "outputs = []\n",
    "\n",
    "for idx,doc_name in enumerate(np.sort(os.listdir(doc_dir))):\n",
    "    if doc_name.endswith('.pdf') or doc_name.endswith('.png') or doc_name.endswith('.jpg'):\n",
    "        print(f\"Processing {idx+1}/{len(os.listdir(doc_dir))} , {doc_name}\")\n",
    "\n",
    "    if os.path.exists(os.path.join(save_dir, \"jsons\", f\"{doc_name}.pkl\")):\n",
    "        print(f\"\\tSkipping {doc_name}, already processed.\")\n",
    "        continue\n",
    "        \n",
    "\n",
    "    doc_path = os.path.join(doc_dir, doc_name)\n",
    "\n",
    "    if doc_path.endswith('.pdf'):\n",
    "        # Convert PDF to images\n",
    "        image = convert_from_path(doc_path, dpi=300)[0]\n",
    "    elif doc_path.endswith('.png') or doc_path.endswith('.jpg'):\n",
    "        image = Image.open(doc_path).convert('RGB')\n",
    "\n",
    "    ocr = OCR_Model()\n",
    "    print(\"\\tRunning OCR...\")\n",
    "    predictions = ocr.predict(images = [image])\n",
    "\n",
    "    #save the image with OCR bounding boxes\n",
    "    ocr.plot_prediction(image=image, predictions= predictions, show=False,save_path = os.path.join(save_dir, \"images\", f\"{doc_name}.png\"))\n",
    "\n",
    "    del ocr\n",
    "    torch.cuda.empty_cache()\n",
    "\n",
    "    All_text = []\n",
    "    for line in predictions[0].text_lines:\n",
    "        All_text.append(line.text)\n",
    "\n",
    "    print(\"\\tFetching relevant fields from OCR...\")\n",
    "    info = extract_fields_from_ocr(All_text)\n",
    "\n",
    "    parsed = json.loads(info)\n",
    "    outputs.append(parsed)\n",
    "\n",
    "    # Save the output as a pickle file\n",
    "    output_path = os.path.join(save_dir,\"jsons\", f\"{doc_name}.pkl\")\n",
    "    with open(output_path, 'wb') as f:\n",
    "        pickle.dump(parsed, f)\n",
    "    "
   ]
  }
 ],
 "metadata": {
  "kernelspec": {
   "display_name": "OCR",
   "language": "python",
   "name": "python3"
  },
  "language_info": {
   "codemirror_mode": {
    "name": "ipython",
    "version": 3
   },
   "file_extension": ".py",
   "mimetype": "text/x-python",
   "name": "python",
   "nbconvert_exporter": "python",
   "pygments_lexer": "ipython3",
   "version": "3.10.0"
  }
 },
 "nbformat": 4,
 "nbformat_minor": 5
}
